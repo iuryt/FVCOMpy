{
 "cells": [
  {
   "cell_type": "markdown",
   "id": "6acc46e4-64c3-4850-89f9-72f5f8ceb260",
   "metadata": {},
   "source": [
    "# Loading data\n",
    "\n",
    "Let's with NECOFS data, available at [SMAST archive](http://www.smast.umassd.edu:8080/thredds/catalog/models/fvcom/NECOFS/Archive/NECOFS_GOM/catalog.html)."
   ]
  },
  {
   "cell_type": "code",
   "execution_count": 1,
   "id": "e3423c31-c0ff-45b7-9447-7171e82289b4",
   "metadata": {},
   "outputs": [],
   "source": [
    "#importing modules\n",
    "import xarray as xr\n",
    "from netCDF4 import Dataset"
   ]
  },
  {
   "cell_type": "markdown",
   "id": "39f5da0c-da8a-4c9e-b9e7-29797b5c6348",
   "metadata": {},
   "source": [
    "We need to drop `siglay` and `siglev` coordinates. For some reason the data have the same name for coordinates and dimensions, e.g `siglay` is a coordinate that depends on `(siglay,node)`. [Many others](https://github.com/pydata/xarray/issues/2233) had the same problem with this model output. There is also some problem with the time formatting, we will need to decode it after loading the data."
   ]
  },
  {
   "cell_type": "code",
   "execution_count": 42,
   "id": "31d06909-9501-4117-bf40-d36fdbc07ad6",
   "metadata": {},
   "outputs": [],
   "source": [
    "# define year and month to be read\n",
    "year = 2019\n",
    "month = 5\n",
    "# we could use this to run a loop through the years/months we need\n",
    "\n",
    "\n",
    "# list problematic coordinates\n",
    "drop_variables = ['siglay','siglev']\n",
    "\n",
    "# base url for openDAP server\n",
    "url = \"\".join([\"http://www.smast.umassd.edu:8080/thredds/dodsC/models/fvcom/\",\n",
    "        f\"NECOFS/Archive/NECOFS_GOM/{year}/gom4_{year}{month:02d}.nc?\"])\n",
    "\n",
    "# lazy load of the data\n",
    "ds = xr.open_dataset(url,drop_variables=drop_variables,decode_times=False)"
   ]
  },
  {
   "cell_type": "markdown",
   "id": "60644164-0483-4438-8ec8-fbb884b8a335",
   "metadata": {},
   "source": [
    "Solving the problem with `siglay` and `siglev`. We need to workaround using `netCDF4` and renaming the coordinates."
   ]
  },
  {
   "cell_type": "code",
   "execution_count": 43,
   "id": "8a80c65a-8aa8-485e-9c00-e37287b44281",
   "metadata": {},
   "outputs": [],
   "source": [
    "# load data with netCDF4\n",
    "nc = Dataset(url)\n",
    "# load the problematic coordinates\n",
    "coords = {name:nc[name] for name in drop_variables}\n",
    "\n",
    "# function to extract ncattrs from `Dataset()`\n",
    "get_attrs = lambda name: {attr:coords[name].getncattr(attr) for attr in coords[name].ncattrs()}\n",
    "# function to convert from `Dataset()` to `xr.DataArray()`\n",
    "nc2xr = lambda name: xr.DataArray(coords[name],attrs=get_attrs(name),name=f'{name}_coord',dims=(f'{name}','node'))\n",
    "\n",
    "# apply `nc2xr()` and merge `xr.DataArray()` objects\n",
    "coords = xr.merge([nc2xr(name) for name in coords.keys()])\n",
    "\n",
    "# reassign to the main `xr.Dataset()`\n",
    "ds = ds.assign_coords(coords)"
   ]
  },
  {
   "cell_type": "markdown",
   "id": "358171d8-e034-495b-ac50-27a6dbdfcb16",
   "metadata": {},
   "source": [
    "We now can assign the `z` coordinate for the data."
   ]
  },
  {
   "cell_type": "code",
   "execution_count": 68,
   "id": "4caca578-7e4a-4926-a055-5901f5ccdecb",
   "metadata": {},
   "outputs": [],
   "source": [
    "z = (ds.siglay_coord*ds.h)\n",
    "z.attrs = dict(long_name='nodal z-coordinate',units='meters')\n",
    "ds = ds.assign_coords(z=z)"
   ]
  },
  {
   "cell_type": "code",
   "execution_count": null,
   "id": "d7d84c92-30b6-46c8-8836-2321be9a5493",
   "metadata": {},
   "outputs": [],
   "source": []
  }
 ],
 "metadata": {
  "kernelspec": {
   "display_name": "pangeo-notebook",
   "language": "python",
   "name": "pangeo-notebook"
  },
  "language_info": {
   "codemirror_mode": {
    "name": "ipython",
    "version": 3
   },
   "file_extension": ".py",
   "mimetype": "text/x-python",
   "name": "python",
   "nbconvert_exporter": "python",
   "pygments_lexer": "ipython3",
   "version": "3.9.7"
  }
 },
 "nbformat": 4,
 "nbformat_minor": 5
}
